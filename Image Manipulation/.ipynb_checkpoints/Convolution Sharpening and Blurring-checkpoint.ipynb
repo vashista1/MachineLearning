{
 "cells": [
  {
   "cell_type": "markdown",
   "metadata": {},
   "source": [
    "# IMAGE MANIPULATIONS (Convolutions - Blurring and Sharpening) "
   ]
  },
  {
   "cell_type": "code",
   "execution_count": 1,
   "metadata": {},
   "outputs": [],
   "source": [
    "import matplotlib.image as mpimg\n",
    "import matplotlib.pyplot as plt\n",
    "import numpy as np\n",
    "import cv2"
   ]
  },
  {
   "cell_type": "code",
   "execution_count": 2,
   "metadata": {
    "scrolled": true
   },
   "outputs": [],
   "source": [
    "image = cv2.imread('Self_Driving_Car.jpg')\n",
    "# cv2.imshow('Self Driving Car!', image)\n",
    "cv2.waitKey()\n",
    "cv2.destroyAllWindows()\n",
    "\n",
    "image.shape\n",
    "\n",
    "gray_img = cv2.cvtColor(image, cv2.COLOR_BGR2GRAY)\n",
    "# cv2.imshow('Self Driving Car in Gray!', gray_img)\n",
    "\n",
    "cv2.waitKey()\n",
    "cv2.destroyAllWindows()\n",
    "\n",
    "# Sharpening Kernel #1\n",
    "Sharp_Kernel = np.array([[0,-1,0], \n",
    "                       [-1,5,-1], \n",
    "                       [0,-1,0]])\n",
    "\n",
    "# Sharpening Kernel #2\n",
    "# Sharp_Kernel = np.array([[-1,-1,-1], \n",
    "#                          [-1,9,-1], \n",
    "#                          [-1,-1,-1]])\n",
    "\n",
    "\n",
    "Sharpened_Image = cv2.filter2D(gray_img, -1, Sharp_Kernel)"
   ]
  },
  {
   "cell_type": "code",
   "execution_count": null,
   "metadata": {},
   "outputs": [],
   "source": [
    "cv2.imshow('Sharpened Image', Sharpened_Image)\n",
    "\n",
    "cv2.waitKey(0)\n",
    "cv2.destroyAllWindows()\n",
    "\n",
    "# Blurring Kernel \n",
    "Blurr_Kernel = np.ones((3,3))\n",
    "Blurr_Kernel\n",
    "\n",
    "Blurred_Image = cv2.filter2D(gray_img, -1, Blurr_Kernel)\n",
    "cv2.imshow('Blurred Image', Blurred_Image)\n",
    "\n",
    "cv2.waitKey(0)\n",
    "cv2.destroyAllWindows()"
   ]
  },
  {
   "cell_type": "code",
   "execution_count": null,
   "metadata": {},
   "outputs": [],
   "source": [
    "# Blurring Kernel normalized \n",
    "Blurr_Kernel = np.ones((3,3)) * 1/9\n",
    "Blurr_Kernel\n",
    "\n",
    "Blurred_Image = cv2.filter2D(gray_img, -1, Blurr_Kernel)\n",
    "cv2.imshow('Blurred Image', Blurred_Image)\n",
    "\n",
    "cv2.waitKey(0)\n",
    "cv2.destroyAllWindows()"
   ]
  },
  {
   "cell_type": "code",
   "execution_count": null,
   "metadata": {},
   "outputs": [],
   "source": [
    "# Blurring Kernel with missing\n",
    "\n",
    "Blurr_Kernel = np.ones((8,8))\n",
    "Blurr_Kernel\n"
   ]
  },
  {
   "cell_type": "code",
   "execution_count": null,
   "metadata": {},
   "outputs": [],
   "source": [
    "\n",
    "Blurred_Image = cv2.filter2D(gray_img, -1, Blurr_Kernel)\n",
    "\n",
    "cv2.imshow('Blurred Image', Blurred_Image)\n",
    "\n",
    "cv2.waitKey(0)\n",
    "cv2.destroyAllWindows()"
   ]
  }
 ],
 "metadata": {
  "kernelspec": {
   "display_name": "Python 3",
   "language": "python",
   "name": "python3"
  },
  "language_info": {
   "codemirror_mode": {
    "name": "ipython",
    "version": 3
   },
   "file_extension": ".py",
   "mimetype": "text/x-python",
   "name": "python",
   "nbconvert_exporter": "python",
   "pygments_lexer": "ipython3",
   "version": "3.7.4"
  },
  "widgets": {
   "state": {},
   "version": "1.1.2"
  }
 },
 "nbformat": 4,
 "nbformat_minor": 2
}
